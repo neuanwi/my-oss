{
  "nbformat": 4,
  "nbformat_minor": 0,
  "metadata": {
    "colab": {
      "provenance": [],
      "toc_visible": true,
      "authorship_tag": "ABX9TyNTu36STe8KdjVj6jPa1iBC",
      "include_colab_link": true
    },
    "kernelspec": {
      "name": "python3",
      "display_name": "Python 3"
    },
    "language_info": {
      "name": "python"
    }
  },
  "cells": [
    {
      "cell_type": "markdown",
      "metadata": {
        "id": "view-in-github",
        "colab_type": "text"
      },
      "source": [
        "<a href=\"https://colab.research.google.com/github/neuanwi/my-oss/blob/main/test_pandas.ipynb\" target=\"_parent\"><img src=\"https://colab.research.google.com/assets/colab-badge.svg\" alt=\"Open In Colab\"/></a>"
      ]
    },
    {
      "cell_type": "code",
      "execution_count": null,
      "metadata": {
        "id": "RvvEiwtwlnVZ"
      },
      "outputs": [],
      "source": [
        "def abc (a, b) :\n",
        "  return c"
      ]
    },
    {
      "cell_type": "code",
      "source": [
        "a = 60"
      ],
      "metadata": {
        "id": "Km1bi5n0oU2o"
      },
      "execution_count": null,
      "outputs": []
    },
    {
      "cell_type": "code",
      "source": [
        "data_input = '2024-03-13' #@param {type : 'date'}"
      ],
      "metadata": {
        "id": "6iT5KtojodAc"
      },
      "execution_count": 2,
      "outputs": []
    },
    {
      "cell_type": "markdown",
      "source": [],
      "metadata": {
        "id": "OvJ1O1Y3l1L4"
      }
    },
    {
      "cell_type": "markdown",
      "source": [
        "# 나의 경주 여행기\n"
      ],
      "metadata": {
        "id": "m_bpHwmKl31s"
      }
    },
    {
      "cell_type": "markdown",
      "source": [
        "## 1주차 : 불국사 방문\n",
        "$ c = a^2 + 6α $\n",
        "🙅\n",
        "[어느 사이트](https://www.data.go.kr/)"
      ],
      "metadata": {
        "id": "75HnUilBmIR1"
      }
    },
    {
      "cell_type": "code",
      "source": [
        "import pandas as pd\n",
        "df = pd.read_csv('smple_data/california_housing_train.scv')\n",
        "df.head()"
      ],
      "metadata": {
        "id": "BAbgUS-rmaeh"
      },
      "execution_count": null,
      "outputs": []
    }
  ]
}